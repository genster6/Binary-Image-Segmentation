{
 "cells": [
  {
   "cell_type": "markdown",
   "metadata": {},
   "source": [
    "# Trying to get a manual segmenter working"
   ]
  },
  {
   "cell_type": "code",
   "execution_count": 1,
   "metadata": {},
   "outputs": [],
   "source": [
    "import logging\n",
    "import sys"
   ]
  },
  {
   "cell_type": "code",
   "execution_count": 2,
   "metadata": {},
   "outputs": [],
   "source": [
    "logging.basicConfig(stream=sys.stdout, level=logging.ERROR)\n",
    "#logging.basicConfig(stream=sys.stdout, level=logging.INFO)"
   ]
  },
  {
   "cell_type": "code",
   "execution_count": 3,
   "metadata": {},
   "outputs": [],
   "source": [
    "%matplotlib inline\n",
    "from see import manualsearch\n",
    "import imageio\n",
    "img = imageio.imread('Image_data/Coco_2017_unlabeled//rgbd_plant/rgb_04_009_05.png')\n",
    "gmask = imageio.imread('Image_data/Coco_2017_unlabeled/rgbd_new_label/label_04_009_05299.png')\n",
    "from skimage import color\n",
    "gmask = color.rgb2gray(gmask)"
   ]
  },
  {
   "cell_type": "code",
   "execution_count": 4,
   "metadata": {},
   "outputs": [],
   "source": [
    "from see import manualsearch\n",
    "from see import Segmentors"
   ]
  },
  {
   "cell_type": "code",
   "execution_count": 5,
   "metadata": {},
   "outputs": [],
   "source": [
    "import ipywidgets as widgets"
   ]
  },
  {
   "cell_type": "code",
   "execution_count": 7,
   "metadata": {
    "scrolled": false
   },
   "outputs": [
    {
     "data": {
      "application/vnd.jupyter.widget-view+json": {
       "model_id": "1153b674e8a6402bb9761f2b4d924290",
       "version_major": 2,
       "version_minor": 0
      },
      "text/plain": [
       "GridBox(children=(SelectionSlider(description='algorithm', options=('CT', 'FB', 'SC', 'WS', 'CV', 'MCV', 'AC')…"
      ]
     },
     "metadata": {},
     "output_type": "display_data"
    },
    {
     "data": {
      "application/vnd.jupyter.widget-view+json": {
       "model_id": "928036aec2af4e95b1d37d17bb9a781f",
       "version_major": 2,
       "version_minor": 0
      },
      "text/plain": [
       "Output()"
      ]
     },
     "metadata": {},
     "output_type": "display_data"
    }
   ],
   "source": [
    "params = ['CT', 7563, 0.13, 2060, 0.01, 4342, 850, 10, 0.57, 1863, 1543, 134, 3, 1, 0.35, (1, 1), 8.1, 'checkerboard', 'checkerboard', 3, 7625, -35, 0.0, 0.0, 0.0]\n",
    "seg = Segmentors.algoFromParams(params)\n",
    "widg = dict()\n",
    "widglist = []\n",
    "\n",
    "\n",
    "#make algorithm dropdown\n",
    "thislist = eval(seg.params.ranges['algorithm'])\n",
    "thiswidg = widgets.SelectionSlider(options=tuple(thislist),\n",
    "                                   value=seg.params['algorithm'],\n",
    "                                   description='algorithm',\n",
    "                                   disabled=False,\n",
    "                                   continuous_update=True,\n",
    "                                   orientation='horizontal',\n",
    "                                   readout=True)\n",
    "widglist.append(thiswidg)\n",
    "widg['algorithm'] = thiswidg\n",
    "for p in seg.paramindexes:\n",
    "    thislist = eval(seg.params.ranges[p])\n",
    "    disabled = True\n",
    "    thiswidg = widgets.SelectionSlider(options=tuple(thislist),\n",
    "                                       disabled=False,\n",
    "                                       description=p,\n",
    "                                       value=seg.params[p],\n",
    "                                       continuous_update=False,\n",
    "                                       orientation='horizontal',\n",
    "                                       readout=True\n",
    "                                      )\n",
    "    widglist.append(thiswidg)\n",
    "    widg[p] = thiswidg\n",
    "    \n",
    "    \n",
    "def f(algorithm, im =img, mask=gmask, **kwargs):\n",
    "    for k in kwargs:\n",
    "        seg.params[k] = kwargs[k]\n",
    "    mask = seg.evaluate(img)\n",
    "    manualsearch.showSegment(img,mask)\n",
    "\n",
    "layout = widgets.Layout(grid_template_columns='1fr 1fr 1fr')\n",
    "ui = widgets.GridBox(widglist, layout=layout)\n",
    "\n",
    "out = widgets.interactive_output(f, widg)\n",
    "display(ui, out)"
   ]
  },
  {
   "cell_type": "code",
   "execution_count": null,
   "metadata": {},
   "outputs": [],
   "source": [
    "from ipywidgets import FloatSlider\n",
    "\n",
    "y_widget = FloatSlider(min=0.5, max=10.0, step=0.05, value=5.0)\n",
    "x_widget = FloatSlider(min=0.5, max=10.0, step=0.05, value=5.0)\n",
    "\n",
    "def update_x_range(*args):\n",
    "    x_widget.max = 2.0 * y_widget.value\n",
    "y_widget.observe(update_x_range, 'value')\n",
    "\n",
    "def printer(x, y):\n",
    "    print(x, y)\n",
    "interact(printer,x=x_widget, y=y_widget);"
   ]
  },
  {
   "cell_type": "code",
   "execution_count": null,
   "metadata": {},
   "outputs": [],
   "source": []
  }
 ],
 "metadata": {
  "kernelspec": {
   "display_name": "Python 3",
   "language": "python",
   "name": "python3"
  },
  "language_info": {
   "codemirror_mode": {
    "name": "ipython",
    "version": 3
   },
   "file_extension": ".py",
   "mimetype": "text/x-python",
   "name": "python",
   "nbconvert_exporter": "python",
   "pygments_lexer": "ipython3",
   "version": "3.7.5"
  },
  "toc": {
   "base_numbering": 1,
   "nav_menu": {},
   "number_sections": false,
   "sideBar": false,
   "skip_h1_title": false,
   "title_cell": "Table of Contents",
   "title_sidebar": "Contents",
   "toc_cell": false,
   "toc_position": {},
   "toc_section_display": false,
   "toc_window_display": false
  }
 },
 "nbformat": 4,
 "nbformat_minor": 4
}
