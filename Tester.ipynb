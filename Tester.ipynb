{
 "cells": [
  {
   "cell_type": "code",
   "execution_count": 1,
   "metadata": {},
   "outputs": [],
   "source": [
    "import main"
   ]
  },
  {
   "cell_type": "code",
   "execution_count": 2,
   "metadata": {},
   "outputs": [],
   "source": [
    "ga = main.SegmentImage()"
   ]
  },
  {
   "cell_type": "code",
   "execution_count": null,
   "metadata": {},
   "outputs": [
    {
     "name": "stdout",
     "output_type": "stream",
     "text": [
      "Seed was: 3157634310348325547\n",
      "Algorithm=FB\n",
      "ERROR: <class 'ValueError'>\n",
      "Algorithm=WS\n",
      "ERROR: <class 'ValueError'>\n"
     ]
    },
    {
     "name": "stderr",
     "output_type": "stream",
     "text": [
      "Traceback (most recent call last):\n",
      "  File \"/Users/colbrydi/REPOS/Binary-Image-Segmentation/GAHelpers/GeneticHelp.py\", line 258, in runAlgo\n",
      "    np.array(img), groundImg.getImage(), len(np.array(img).shape))\n",
      "  File \"/Users/colbrydi/REPOS/Binary-Image-Segmentation/GAHelpers/GeneticHelp.py\", line 202, in __FitnessFunction\n",
      "    img2, img1, True)\n",
      "  File \"/Users/colbrydi/REPOS/Binary-Image-Segmentation/GAHelpers/GeneticHelp.py\", line 111, in set_fitness_func\n",
      "    matched = np.core.defchararray.add(matched, b_test_int.astype(str))\n",
      "  File \"<__array_function__ internals>\", line 6, in add\n",
      "  File \"/opt/anaconda3/lib/python3.7/site-packages/numpy/core/defchararray.py\", line 316, in add\n",
      "    return _vec_string(arr1, (dtype, out_size), '__add__', (arr2,))\n",
      "ValueError: shape mismatch: objects cannot be broadcast to a single shape\n",
      "Traceback (most recent call last):\n",
      "  File \"/Users/colbrydi/REPOS/Binary-Image-Segmentation/GAHelpers/GeneticHelp.py\", line 258, in runAlgo\n",
      "    np.array(img), groundImg.getImage(), len(np.array(img).shape))\n",
      "  File \"/Users/colbrydi/REPOS/Binary-Image-Segmentation/GAHelpers/GeneticHelp.py\", line 202, in __FitnessFunction\n",
      "    img2, img1, True)\n",
      "  File \"/Users/colbrydi/REPOS/Binary-Image-Segmentation/GAHelpers/GeneticHelp.py\", line 111, in set_fitness_func\n",
      "    matched = np.core.defchararray.add(matched, b_test_int.astype(str))\n",
      "  File \"<__array_function__ internals>\", line 6, in add\n",
      "  File \"/opt/anaconda3/lib/python3.7/site-packages/numpy/core/defchararray.py\", line 316, in add\n",
      "    return _vec_string(arr1, (dtype, out_size), '__add__', (arr2,))\n",
      "ValueError: shape mismatch: objects cannot be broadcast to a single shape\n"
     ]
    },
    {
     "name": "stdout",
     "output_type": "stream",
     "text": [
      "Algorithm=QS\n",
      "ERROR: <class 'ValueError'>\n"
     ]
    },
    {
     "name": "stderr",
     "output_type": "stream",
     "text": [
      "Traceback (most recent call last):\n",
      "  File \"/Users/colbrydi/REPOS/Binary-Image-Segmentation/GAHelpers/GeneticHelp.py\", line 258, in runAlgo\n",
      "    np.array(img), groundImg.getImage(), len(np.array(img).shape))\n",
      "  File \"/Users/colbrydi/REPOS/Binary-Image-Segmentation/GAHelpers/GeneticHelp.py\", line 202, in __FitnessFunction\n",
      "    img2, img1, True)\n",
      "  File \"/Users/colbrydi/REPOS/Binary-Image-Segmentation/GAHelpers/GeneticHelp.py\", line 111, in set_fitness_func\n",
      "    matched = np.core.defchararray.add(matched, b_test_int.astype(str))\n",
      "  File \"<__array_function__ internals>\", line 6, in add\n",
      "  File \"/opt/anaconda3/lib/python3.7/site-packages/numpy/core/defchararray.py\", line 316, in add\n",
      "    return _vec_string(arr1, (dtype, out_size), '__add__', (arr2,))\n",
      "ValueError: shape mismatch: objects cannot be broadcast to a single shape\n"
     ]
    },
    {
     "name": "stdout",
     "output_type": "stream",
     "text": [
      "Algorithm=QS\n",
      "ERROR: <class 'ValueError'>\n",
      "Algorithm=FF\n",
      "ERROR: <class 'IndexError'>\n",
      "Algorithm=FF\n",
      "ERROR: <class 'IndexError'>\n",
      "Algorithm=FB\n",
      "ERROR: <class 'ValueError'>\n"
     ]
    },
    {
     "name": "stderr",
     "output_type": "stream",
     "text": [
      "Traceback (most recent call last):\n",
      "  File \"/Users/colbrydi/REPOS/Binary-Image-Segmentation/GAHelpers/GeneticHelp.py\", line 258, in runAlgo\n",
      "    np.array(img), groundImg.getImage(), len(np.array(img).shape))\n",
      "  File \"/Users/colbrydi/REPOS/Binary-Image-Segmentation/GAHelpers/GeneticHelp.py\", line 202, in __FitnessFunction\n",
      "    img2, img1, True)\n",
      "  File \"/Users/colbrydi/REPOS/Binary-Image-Segmentation/GAHelpers/GeneticHelp.py\", line 111, in set_fitness_func\n",
      "    matched = np.core.defchararray.add(matched, b_test_int.astype(str))\n",
      "  File \"<__array_function__ internals>\", line 6, in add\n",
      "  File \"/opt/anaconda3/lib/python3.7/site-packages/numpy/core/defchararray.py\", line 316, in add\n",
      "    return _vec_string(arr1, (dtype, out_size), '__add__', (arr2,))\n",
      "ValueError: shape mismatch: objects cannot be broadcast to a single shape\n",
      "Traceback (most recent call last):\n",
      "  File \"/Users/colbrydi/REPOS/Binary-Image-Segmentation/GAHelpers/GeneticHelp.py\", line 253, in runAlgo\n",
      "    img = runAlg.runAlgo()  # takes a long time ALGORITHMSPACE FUNCTION\n",
      "  File \"/Users/colbrydi/REPOS/Binary-Image-Segmentation/GAHelpers/AlgorithmSpace.py\", line 505, in runAlgo\n",
      "    return func()\n",
      "  File \"/Users/colbrydi/REPOS/Binary-Image-Segmentation/GAHelpers/AlgorithmSpace.py\", line 429, in __runFloodFill\n",
      "    pixel = image.getpixel((x,y))\n",
      "  File \"/opt/anaconda3/lib/python3.7/site-packages/PIL/Image.py\", line 1373, in getpixel\n",
      "    return self.im.getpixel(xy)\n",
      "IndexError: image index out of range\n",
      "Traceback (most recent call last):\n",
      "  File \"/Users/colbrydi/REPOS/Binary-Image-Segmentation/GAHelpers/GeneticHelp.py\", line 253, in runAlgo\n",
      "    img = runAlg.runAlgo()  # takes a long time ALGORITHMSPACE FUNCTION\n",
      "  File \"/Users/colbrydi/REPOS/Binary-Image-Segmentation/GAHelpers/AlgorithmSpace.py\", line 505, in runAlgo\n",
      "    return func()\n",
      "  File \"/Users/colbrydi/REPOS/Binary-Image-Segmentation/GAHelpers/AlgorithmSpace.py\", line 429, in __runFloodFill\n",
      "    pixel = image.getpixel((x,y))\n",
      "  File \"/opt/anaconda3/lib/python3.7/site-packages/PIL/Image.py\", line 1373, in getpixel\n",
      "    return self.im.getpixel(xy)\n",
      "IndexError: image index out of range\n",
      "Traceback (most recent call last):\n",
      "  File \"/Users/colbrydi/REPOS/Binary-Image-Segmentation/GAHelpers/GeneticHelp.py\", line 258, in runAlgo\n",
      "    np.array(img), groundImg.getImage(), len(np.array(img).shape))\n",
      "  File \"/Users/colbrydi/REPOS/Binary-Image-Segmentation/GAHelpers/GeneticHelp.py\", line 202, in __FitnessFunction\n",
      "    img2, img1, True)\n",
      "  File \"/Users/colbrydi/REPOS/Binary-Image-Segmentation/GAHelpers/GeneticHelp.py\", line 111, in set_fitness_func\n",
      "    matched = np.core.defchararray.add(matched, b_test_int.astype(str))\n",
      "  File \"<__array_function__ internals>\", line 6, in add\n",
      "  File \"/opt/anaconda3/lib/python3.7/site-packages/numpy/core/defchararray.py\", line 316, in add\n",
      "    return _vec_string(arr1, (dtype, out_size), '__add__', (arr2,))\n",
      "ValueError: shape mismatch: objects cannot be broadcast to a single shape\n"
     ]
    },
    {
     "name": "stdout",
     "output_type": "stream",
     "text": [
      "Algorithm=WS\n",
      "ERROR: <class 'ValueError'>\n"
     ]
    },
    {
     "name": "stderr",
     "output_type": "stream",
     "text": [
      "Traceback (most recent call last):\n",
      "  File \"/Users/colbrydi/REPOS/Binary-Image-Segmentation/GAHelpers/GeneticHelp.py\", line 258, in runAlgo\n",
      "    np.array(img), groundImg.getImage(), len(np.array(img).shape))\n",
      "  File \"/Users/colbrydi/REPOS/Binary-Image-Segmentation/GAHelpers/GeneticHelp.py\", line 202, in __FitnessFunction\n",
      "    img2, img1, True)\n",
      "  File \"/Users/colbrydi/REPOS/Binary-Image-Segmentation/GAHelpers/GeneticHelp.py\", line 111, in set_fitness_func\n",
      "    matched = np.core.defchararray.add(matched, b_test_int.astype(str))\n",
      "  File \"<__array_function__ internals>\", line 6, in add\n",
      "  File \"/opt/anaconda3/lib/python3.7/site-packages/numpy/core/defchararray.py\", line 316, in add\n",
      "    return _vec_string(arr1, (dtype, out_size), '__add__', (arr2,))\n",
      "ValueError: shape mismatch: objects cannot be broadcast to a single shape\n"
     ]
    },
    {
     "name": "stdout",
     "output_type": "stream",
     "text": [
      "Algorithm=AC\n",
      "ERROR: <class 'ValueError'>\n",
      "Algorithm=WS\n",
      "ERROR: <class 'ValueError'>\n"
     ]
    },
    {
     "name": "stderr",
     "output_type": "stream",
     "text": [
      "Traceback (most recent call last):\n",
      "  File \"/Users/colbrydi/REPOS/Binary-Image-Segmentation/GAHelpers/GeneticHelp.py\", line 258, in runAlgo\n",
      "    np.array(img), groundImg.getImage(), len(np.array(img).shape))\n",
      "  File \"/Users/colbrydi/REPOS/Binary-Image-Segmentation/GAHelpers/GeneticHelp.py\", line 202, in __FitnessFunction\n",
      "    img2, img1, True)\n",
      "  File \"/Users/colbrydi/REPOS/Binary-Image-Segmentation/GAHelpers/GeneticHelp.py\", line 111, in set_fitness_func\n",
      "    matched = np.core.defchararray.add(matched, b_test_int.astype(str))\n",
      "  File \"<__array_function__ internals>\", line 6, in add\n",
      "  File \"/opt/anaconda3/lib/python3.7/site-packages/numpy/core/defchararray.py\", line 316, in add\n",
      "    return _vec_string(arr1, (dtype, out_size), '__add__', (arr2,))\n",
      "ValueError: shape mismatch: objects cannot be broadcast to a single shape\n",
      "Traceback (most recent call last):\n",
      "  File \"/Users/colbrydi/REPOS/Binary-Image-Segmentation/GAHelpers/GeneticHelp.py\", line 258, in runAlgo\n",
      "    np.array(img), groundImg.getImage(), len(np.array(img).shape))\n",
      "  File \"/Users/colbrydi/REPOS/Binary-Image-Segmentation/GAHelpers/GeneticHelp.py\", line 202, in __FitnessFunction\n",
      "    img2, img1, True)\n",
      "  File \"/Users/colbrydi/REPOS/Binary-Image-Segmentation/GAHelpers/GeneticHelp.py\", line 111, in set_fitness_func\n",
      "    matched = np.core.defchararray.add(matched, b_test_int.astype(str))\n",
      "  File \"<__array_function__ internals>\", line 6, in add\n",
      "  File \"/opt/anaconda3/lib/python3.7/site-packages/numpy/core/defchararray.py\", line 316, in add\n",
      "    return _vec_string(arr1, (dtype, out_size), '__add__', (arr2,))\n",
      "ValueError: shape mismatch: objects cannot be broadcast to a single shape\n"
     ]
    },
    {
     "name": "stdout",
     "output_type": "stream",
     "text": [
      "Algorithm=QS\n",
      "ERROR: <class 'ValueError'>\n",
      "Algorithm=FF\n",
      "ERROR: <class 'IndexError'>\n",
      "Algorithm=FB\n",
      "ERROR: <class 'ValueError'>\n",
      "Algorithm=FB\n",
      "ERROR: <class 'ValueError'>\n",
      "Algorithm=FF\n",
      "ERROR: <class 'IndexError'>\n"
     ]
    },
    {
     "name": "stderr",
     "output_type": "stream",
     "text": [
      "Traceback (most recent call last):\n",
      "  File \"/Users/colbrydi/REPOS/Binary-Image-Segmentation/GAHelpers/GeneticHelp.py\", line 258, in runAlgo\n",
      "    np.array(img), groundImg.getImage(), len(np.array(img).shape))\n",
      "  File \"/Users/colbrydi/REPOS/Binary-Image-Segmentation/GAHelpers/GeneticHelp.py\", line 202, in __FitnessFunction\n",
      "    img2, img1, True)\n",
      "  File \"/Users/colbrydi/REPOS/Binary-Image-Segmentation/GAHelpers/GeneticHelp.py\", line 111, in set_fitness_func\n",
      "    matched = np.core.defchararray.add(matched, b_test_int.astype(str))\n",
      "  File \"<__array_function__ internals>\", line 6, in add\n",
      "  File \"/opt/anaconda3/lib/python3.7/site-packages/numpy/core/defchararray.py\", line 316, in add\n",
      "    return _vec_string(arr1, (dtype, out_size), '__add__', (arr2,))\n",
      "ValueError: shape mismatch: objects cannot be broadcast to a single shape\n",
      "Traceback (most recent call last):\n",
      "  File \"/Users/colbrydi/REPOS/Binary-Image-Segmentation/GAHelpers/GeneticHelp.py\", line 253, in runAlgo\n",
      "    img = runAlg.runAlgo()  # takes a long time ALGORITHMSPACE FUNCTION\n",
      "  File \"/Users/colbrydi/REPOS/Binary-Image-Segmentation/GAHelpers/AlgorithmSpace.py\", line 505, in runAlgo\n",
      "    return func()\n",
      "  File \"/Users/colbrydi/REPOS/Binary-Image-Segmentation/GAHelpers/AlgorithmSpace.py\", line 429, in __runFloodFill\n",
      "    pixel = image.getpixel((x,y))\n",
      "  File \"/opt/anaconda3/lib/python3.7/site-packages/PIL/Image.py\", line 1373, in getpixel\n",
      "    return self.im.getpixel(xy)\n",
      "IndexError: image index out of range\n",
      "Traceback (most recent call last):\n",
      "  File \"/Users/colbrydi/REPOS/Binary-Image-Segmentation/GAHelpers/GeneticHelp.py\", line 258, in runAlgo\n",
      "    np.array(img), groundImg.getImage(), len(np.array(img).shape))\n",
      "  File \"/Users/colbrydi/REPOS/Binary-Image-Segmentation/GAHelpers/GeneticHelp.py\", line 202, in __FitnessFunction\n",
      "    img2, img1, True)\n",
      "  File \"/Users/colbrydi/REPOS/Binary-Image-Segmentation/GAHelpers/GeneticHelp.py\", line 111, in set_fitness_func\n",
      "    matched = np.core.defchararray.add(matched, b_test_int.astype(str))\n",
      "  File \"<__array_function__ internals>\", line 6, in add\n",
      "  File \"/opt/anaconda3/lib/python3.7/site-packages/numpy/core/defchararray.py\", line 316, in add\n",
      "    return _vec_string(arr1, (dtype, out_size), '__add__', (arr2,))\n",
      "ValueError: shape mismatch: objects cannot be broadcast to a single shape\n",
      "Traceback (most recent call last):\n",
      "  File \"/Users/colbrydi/REPOS/Binary-Image-Segmentation/GAHelpers/GeneticHelp.py\", line 258, in runAlgo\n",
      "    np.array(img), groundImg.getImage(), len(np.array(img).shape))\n",
      "  File \"/Users/colbrydi/REPOS/Binary-Image-Segmentation/GAHelpers/GeneticHelp.py\", line 202, in __FitnessFunction\n",
      "    img2, img1, True)\n",
      "  File \"/Users/colbrydi/REPOS/Binary-Image-Segmentation/GAHelpers/GeneticHelp.py\", line 111, in set_fitness_func\n",
      "    matched = np.core.defchararray.add(matched, b_test_int.astype(str))\n",
      "  File \"<__array_function__ internals>\", line 6, in add\n",
      "  File \"/opt/anaconda3/lib/python3.7/site-packages/numpy/core/defchararray.py\", line 316, in add\n",
      "    return _vec_string(arr1, (dtype, out_size), '__add__', (arr2,))\n",
      "ValueError: shape mismatch: objects cannot be broadcast to a single shape\n",
      "Traceback (most recent call last):\n",
      "  File \"/Users/colbrydi/REPOS/Binary-Image-Segmentation/GAHelpers/GeneticHelp.py\", line 253, in runAlgo\n",
      "    img = runAlg.runAlgo()  # takes a long time ALGORITHMSPACE FUNCTION\n",
      "  File \"/Users/colbrydi/REPOS/Binary-Image-Segmentation/GAHelpers/AlgorithmSpace.py\", line 505, in runAlgo\n",
      "    return func()\n",
      "  File \"/Users/colbrydi/REPOS/Binary-Image-Segmentation/GAHelpers/AlgorithmSpace.py\", line 429, in __runFloodFill\n",
      "    pixel = image.getpixel((x,y))\n",
      "  File \"/opt/anaconda3/lib/python3.7/site-packages/PIL/Image.py\", line 1373, in getpixel\n",
      "    return self.im.getpixel(xy)\n",
      "IndexError: image index out of range\n"
     ]
    },
    {
     "name": "stdout",
     "output_type": "stream",
     "text": [
      "Algorithm=WS\n",
      "ERROR: <class 'ValueError'>\n",
      "Algorithm=FF\n",
      "ERROR: <class 'IndexError'>\n",
      "Algorithm=WS\n",
      "ERROR: <class 'ValueError'>\n",
      "Algorithm=FF\n",
      "ERROR: <class 'IndexError'>\n"
     ]
    },
    {
     "name": "stderr",
     "output_type": "stream",
     "text": [
      "Traceback (most recent call last):\n",
      "  File \"/Users/colbrydi/REPOS/Binary-Image-Segmentation/GAHelpers/GeneticHelp.py\", line 258, in runAlgo\n",
      "    np.array(img), groundImg.getImage(), len(np.array(img).shape))\n",
      "  File \"/Users/colbrydi/REPOS/Binary-Image-Segmentation/GAHelpers/GeneticHelp.py\", line 202, in __FitnessFunction\n",
      "    img2, img1, True)\n",
      "  File \"/Users/colbrydi/REPOS/Binary-Image-Segmentation/GAHelpers/GeneticHelp.py\", line 111, in set_fitness_func\n",
      "    matched = np.core.defchararray.add(matched, b_test_int.astype(str))\n",
      "  File \"<__array_function__ internals>\", line 6, in add\n",
      "  File \"/opt/anaconda3/lib/python3.7/site-packages/numpy/core/defchararray.py\", line 316, in add\n",
      "    return _vec_string(arr1, (dtype, out_size), '__add__', (arr2,))\n",
      "ValueError: shape mismatch: objects cannot be broadcast to a single shape\n",
      "Traceback (most recent call last):\n",
      "  File \"/Users/colbrydi/REPOS/Binary-Image-Segmentation/GAHelpers/GeneticHelp.py\", line 253, in runAlgo\n",
      "    img = runAlg.runAlgo()  # takes a long time ALGORITHMSPACE FUNCTION\n",
      "  File \"/Users/colbrydi/REPOS/Binary-Image-Segmentation/GAHelpers/AlgorithmSpace.py\", line 505, in runAlgo\n",
      "    return func()\n",
      "  File \"/Users/colbrydi/REPOS/Binary-Image-Segmentation/GAHelpers/AlgorithmSpace.py\", line 429, in __runFloodFill\n",
      "    pixel = image.getpixel((x,y))\n",
      "  File \"/opt/anaconda3/lib/python3.7/site-packages/PIL/Image.py\", line 1373, in getpixel\n",
      "    return self.im.getpixel(xy)\n",
      "IndexError: image index out of range\n",
      "Traceback (most recent call last):\n",
      "  File \"/Users/colbrydi/REPOS/Binary-Image-Segmentation/GAHelpers/GeneticHelp.py\", line 258, in runAlgo\n",
      "    np.array(img), groundImg.getImage(), len(np.array(img).shape))\n",
      "  File \"/Users/colbrydi/REPOS/Binary-Image-Segmentation/GAHelpers/GeneticHelp.py\", line 202, in __FitnessFunction\n",
      "    img2, img1, True)\n",
      "  File \"/Users/colbrydi/REPOS/Binary-Image-Segmentation/GAHelpers/GeneticHelp.py\", line 111, in set_fitness_func\n",
      "    matched = np.core.defchararray.add(matched, b_test_int.astype(str))\n",
      "  File \"<__array_function__ internals>\", line 6, in add\n",
      "  File \"/opt/anaconda3/lib/python3.7/site-packages/numpy/core/defchararray.py\", line 316, in add\n",
      "    return _vec_string(arr1, (dtype, out_size), '__add__', (arr2,))\n",
      "ValueError: shape mismatch: objects cannot be broadcast to a single shape\n",
      "Traceback (most recent call last):\n",
      "  File \"/Users/colbrydi/REPOS/Binary-Image-Segmentation/GAHelpers/GeneticHelp.py\", line 253, in runAlgo\n",
      "    img = runAlg.runAlgo()  # takes a long time ALGORITHMSPACE FUNCTION\n",
      "  File \"/Users/colbrydi/REPOS/Binary-Image-Segmentation/GAHelpers/AlgorithmSpace.py\", line 505, in runAlgo\n",
      "    return func()\n",
      "  File \"/Users/colbrydi/REPOS/Binary-Image-Segmentation/GAHelpers/AlgorithmSpace.py\", line 429, in __runFloodFill\n",
      "    pixel = image.getpixel((x,y))\n",
      "  File \"/opt/anaconda3/lib/python3.7/site-packages/PIL/Image.py\", line 1373, in getpixel\n",
      "    return self.im.getpixel(xy)\n",
      "IndexError: image index out of range\n"
     ]
    },
    {
     "name": "stdout",
     "output_type": "stream",
     "text": [
      "Algorithm=WS\n",
      "ERROR: <class 'ValueError'>\n",
      "Algorithm=FB\n",
      "ERROR: <class 'ValueError'>\n",
      "Algorithm=FF\n",
      "ERROR: <class 'IndexError'>\n"
     ]
    },
    {
     "name": "stderr",
     "output_type": "stream",
     "text": [
      "Traceback (most recent call last):\n",
      "  File \"/Users/colbrydi/REPOS/Binary-Image-Segmentation/GAHelpers/GeneticHelp.py\", line 258, in runAlgo\n",
      "    np.array(img), groundImg.getImage(), len(np.array(img).shape))\n",
      "  File \"/Users/colbrydi/REPOS/Binary-Image-Segmentation/GAHelpers/GeneticHelp.py\", line 202, in __FitnessFunction\n",
      "    img2, img1, True)\n",
      "  File \"/Users/colbrydi/REPOS/Binary-Image-Segmentation/GAHelpers/GeneticHelp.py\", line 111, in set_fitness_func\n",
      "    matched = np.core.defchararray.add(matched, b_test_int.astype(str))\n",
      "  File \"<__array_function__ internals>\", line 6, in add\n",
      "  File \"/opt/anaconda3/lib/python3.7/site-packages/numpy/core/defchararray.py\", line 316, in add\n",
      "    return _vec_string(arr1, (dtype, out_size), '__add__', (arr2,))\n",
      "ValueError: shape mismatch: objects cannot be broadcast to a single shape\n",
      "Traceback (most recent call last):\n",
      "  File \"/Users/colbrydi/REPOS/Binary-Image-Segmentation/GAHelpers/GeneticHelp.py\", line 258, in runAlgo\n",
      "    np.array(img), groundImg.getImage(), len(np.array(img).shape))\n",
      "  File \"/Users/colbrydi/REPOS/Binary-Image-Segmentation/GAHelpers/GeneticHelp.py\", line 202, in __FitnessFunction\n",
      "    img2, img1, True)\n",
      "  File \"/Users/colbrydi/REPOS/Binary-Image-Segmentation/GAHelpers/GeneticHelp.py\", line 111, in set_fitness_func\n",
      "    matched = np.core.defchararray.add(matched, b_test_int.astype(str))\n",
      "  File \"<__array_function__ internals>\", line 6, in add\n",
      "  File \"/opt/anaconda3/lib/python3.7/site-packages/numpy/core/defchararray.py\", line 316, in add\n",
      "    return _vec_string(arr1, (dtype, out_size), '__add__', (arr2,))\n",
      "ValueError: shape mismatch: objects cannot be broadcast to a single shape\n",
      "Traceback (most recent call last):\n",
      "  File \"/Users/colbrydi/REPOS/Binary-Image-Segmentation/GAHelpers/GeneticHelp.py\", line 253, in runAlgo\n",
      "    img = runAlg.runAlgo()  # takes a long time ALGORITHMSPACE FUNCTION\n",
      "  File \"/Users/colbrydi/REPOS/Binary-Image-Segmentation/GAHelpers/AlgorithmSpace.py\", line 505, in runAlgo\n",
      "    return func()\n",
      "  File \"/Users/colbrydi/REPOS/Binary-Image-Segmentation/GAHelpers/AlgorithmSpace.py\", line 429, in __runFloodFill\n",
      "    pixel = image.getpixel((x,y))\n",
      "  File \"/opt/anaconda3/lib/python3.7/site-packages/PIL/Image.py\", line 1373, in getpixel\n",
      "    return self.im.getpixel(xy)\n",
      "IndexError: image index out of range\n"
     ]
    },
    {
     "name": "stdout",
     "output_type": "stream",
     "text": [
      "Algorithm=WS\n",
      "ERROR: <class 'ValueError'>\n"
     ]
    },
    {
     "name": "stderr",
     "output_type": "stream",
     "text": [
      "Traceback (most recent call last):\n",
      "  File \"/Users/colbrydi/REPOS/Binary-Image-Segmentation/GAHelpers/GeneticHelp.py\", line 258, in runAlgo\n",
      "    np.array(img), groundImg.getImage(), len(np.array(img).shape))\n",
      "  File \"/Users/colbrydi/REPOS/Binary-Image-Segmentation/GAHelpers/GeneticHelp.py\", line 202, in __FitnessFunction\n",
      "    img2, img1, True)\n",
      "  File \"/Users/colbrydi/REPOS/Binary-Image-Segmentation/GAHelpers/GeneticHelp.py\", line 111, in set_fitness_func\n",
      "    matched = np.core.defchararray.add(matched, b_test_int.astype(str))\n",
      "  File \"<__array_function__ internals>\", line 6, in add\n",
      "  File \"/opt/anaconda3/lib/python3.7/site-packages/numpy/core/defchararray.py\", line 316, in add\n",
      "    return _vec_string(arr1, (dtype, out_size), '__add__', (arr2,))\n",
      "ValueError: shape mismatch: objects cannot be broadcast to a single shape\n"
     ]
    },
    {
     "name": "stdout",
     "output_type": "stream",
     "text": [
      "Algorithm=AC\n",
      "ERROR: <class 'ValueError'>\n"
     ]
    },
    {
     "name": "stderr",
     "output_type": "stream",
     "text": [
      "Traceback (most recent call last):\n",
      "  File \"/Users/colbrydi/REPOS/Binary-Image-Segmentation/GAHelpers/GeneticHelp.py\", line 258, in runAlgo\n",
      "    np.array(img), groundImg.getImage(), len(np.array(img).shape))\n",
      "  File \"/Users/colbrydi/REPOS/Binary-Image-Segmentation/GAHelpers/GeneticHelp.py\", line 202, in __FitnessFunction\n",
      "    img2, img1, True)\n",
      "  File \"/Users/colbrydi/REPOS/Binary-Image-Segmentation/GAHelpers/GeneticHelp.py\", line 111, in set_fitness_func\n",
      "    matched = np.core.defchararray.add(matched, b_test_int.astype(str))\n",
      "  File \"<__array_function__ internals>\", line 6, in add\n",
      "  File \"/opt/anaconda3/lib/python3.7/site-packages/numpy/core/defchararray.py\", line 316, in add\n",
      "    return _vec_string(arr1, (dtype, out_size), '__add__', (arr2,))\n",
      "ValueError: shape mismatch: objects cannot be broadcast to a single shape\n"
     ]
    },
    {
     "name": "stdout",
     "output_type": "stream",
     "text": [
      "Algorithm=AC\n",
      "ERROR: <class 'ValueError'>\n",
      "Algorithm=FB\n",
      "ERROR: <class 'ValueError'>\n"
     ]
    },
    {
     "name": "stderr",
     "output_type": "stream",
     "text": [
      "Traceback (most recent call last):\n",
      "  File \"/Users/colbrydi/REPOS/Binary-Image-Segmentation/GAHelpers/GeneticHelp.py\", line 258, in runAlgo\n",
      "    np.array(img), groundImg.getImage(), len(np.array(img).shape))\n",
      "  File \"/Users/colbrydi/REPOS/Binary-Image-Segmentation/GAHelpers/GeneticHelp.py\", line 202, in __FitnessFunction\n",
      "    img2, img1, True)\n",
      "  File \"/Users/colbrydi/REPOS/Binary-Image-Segmentation/GAHelpers/GeneticHelp.py\", line 111, in set_fitness_func\n",
      "    matched = np.core.defchararray.add(matched, b_test_int.astype(str))\n",
      "  File \"<__array_function__ internals>\", line 6, in add\n",
      "  File \"/opt/anaconda3/lib/python3.7/site-packages/numpy/core/defchararray.py\", line 316, in add\n",
      "    return _vec_string(arr1, (dtype, out_size), '__add__', (arr2,))\n",
      "ValueError: shape mismatch: objects cannot be broadcast to a single shape\n",
      "Traceback (most recent call last):\n",
      "  File \"/Users/colbrydi/REPOS/Binary-Image-Segmentation/GAHelpers/GeneticHelp.py\", line 258, in runAlgo\n",
      "    np.array(img), groundImg.getImage(), len(np.array(img).shape))\n",
      "  File \"/Users/colbrydi/REPOS/Binary-Image-Segmentation/GAHelpers/GeneticHelp.py\", line 202, in __FitnessFunction\n",
      "    img2, img1, True)\n",
      "  File \"/Users/colbrydi/REPOS/Binary-Image-Segmentation/GAHelpers/GeneticHelp.py\", line 111, in set_fitness_func\n",
      "    matched = np.core.defchararray.add(matched, b_test_int.astype(str))\n",
      "  File \"<__array_function__ internals>\", line 6, in add\n",
      "  File \"/opt/anaconda3/lib/python3.7/site-packages/numpy/core/defchararray.py\", line 316, in add\n",
      "    return _vec_string(arr1, (dtype, out_size), '__add__', (arr2,))\n",
      "ValueError: shape mismatch: objects cannot be broadcast to a single shape\n"
     ]
    },
    {
     "name": "stdout",
     "output_type": "stream",
     "text": [
      "Algorithm=QS\n",
      "ERROR: <class 'ValueError'>\n",
      "Algorithm=FF\n",
      "ERROR: <class 'IndexError'>\n"
     ]
    },
    {
     "name": "stderr",
     "output_type": "stream",
     "text": [
      "Traceback (most recent call last):\n",
      "  File \"/Users/colbrydi/REPOS/Binary-Image-Segmentation/GAHelpers/GeneticHelp.py\", line 258, in runAlgo\n",
      "    np.array(img), groundImg.getImage(), len(np.array(img).shape))\n",
      "  File \"/Users/colbrydi/REPOS/Binary-Image-Segmentation/GAHelpers/GeneticHelp.py\", line 202, in __FitnessFunction\n",
      "    img2, img1, True)\n",
      "  File \"/Users/colbrydi/REPOS/Binary-Image-Segmentation/GAHelpers/GeneticHelp.py\", line 111, in set_fitness_func\n",
      "    matched = np.core.defchararray.add(matched, b_test_int.astype(str))\n",
      "  File \"<__array_function__ internals>\", line 6, in add\n",
      "  File \"/opt/anaconda3/lib/python3.7/site-packages/numpy/core/defchararray.py\", line 316, in add\n",
      "    return _vec_string(arr1, (dtype, out_size), '__add__', (arr2,))\n",
      "ValueError: shape mismatch: objects cannot be broadcast to a single shape\n",
      "Traceback (most recent call last):\n",
      "  File \"/Users/colbrydi/REPOS/Binary-Image-Segmentation/GAHelpers/GeneticHelp.py\", line 253, in runAlgo\n",
      "    img = runAlg.runAlgo()  # takes a long time ALGORITHMSPACE FUNCTION\n",
      "  File \"/Users/colbrydi/REPOS/Binary-Image-Segmentation/GAHelpers/AlgorithmSpace.py\", line 505, in runAlgo\n",
      "    return func()\n",
      "  File \"/Users/colbrydi/REPOS/Binary-Image-Segmentation/GAHelpers/AlgorithmSpace.py\", line 429, in __runFloodFill\n",
      "    pixel = image.getpixel((x,y))\n",
      "  File \"/opt/anaconda3/lib/python3.7/site-packages/PIL/Image.py\", line 1373, in getpixel\n",
      "    return self.im.getpixel(xy)\n",
      "IndexError: image index out of range\n"
     ]
    },
    {
     "name": "stdout",
     "output_type": "stream",
     "text": [
      "Algorithm=QS\n",
      "ERROR: <class 'ValueError'>\n"
     ]
    },
    {
     "name": "stderr",
     "output_type": "stream",
     "text": [
      "Traceback (most recent call last):\n",
      "  File \"/Users/colbrydi/REPOS/Binary-Image-Segmentation/GAHelpers/GeneticHelp.py\", line 258, in runAlgo\n",
      "    np.array(img), groundImg.getImage(), len(np.array(img).shape))\n",
      "  File \"/Users/colbrydi/REPOS/Binary-Image-Segmentation/GAHelpers/GeneticHelp.py\", line 202, in __FitnessFunction\n",
      "    img2, img1, True)\n",
      "  File \"/Users/colbrydi/REPOS/Binary-Image-Segmentation/GAHelpers/GeneticHelp.py\", line 111, in set_fitness_func\n",
      "    matched = np.core.defchararray.add(matched, b_test_int.astype(str))\n",
      "  File \"<__array_function__ internals>\", line 6, in add\n",
      "  File \"/opt/anaconda3/lib/python3.7/site-packages/numpy/core/defchararray.py\", line 316, in add\n",
      "    return _vec_string(arr1, (dtype, out_size), '__add__', (arr2,))\n",
      "ValueError: shape mismatch: objects cannot be broadcast to a single shape\n"
     ]
    },
    {
     "name": "stdout",
     "output_type": "stream",
     "text": [
      "Algorithm=QS\n",
      "ERROR: <class 'ValueError'>\n",
      "Algorithm=FB\n",
      "ERROR: <class 'ValueError'>\n"
     ]
    },
    {
     "name": "stderr",
     "output_type": "stream",
     "text": [
      "Traceback (most recent call last):\n",
      "  File \"/Users/colbrydi/REPOS/Binary-Image-Segmentation/GAHelpers/GeneticHelp.py\", line 258, in runAlgo\n",
      "    np.array(img), groundImg.getImage(), len(np.array(img).shape))\n",
      "  File \"/Users/colbrydi/REPOS/Binary-Image-Segmentation/GAHelpers/GeneticHelp.py\", line 202, in __FitnessFunction\n",
      "    img2, img1, True)\n",
      "  File \"/Users/colbrydi/REPOS/Binary-Image-Segmentation/GAHelpers/GeneticHelp.py\", line 111, in set_fitness_func\n",
      "    matched = np.core.defchararray.add(matched, b_test_int.astype(str))\n",
      "  File \"<__array_function__ internals>\", line 6, in add\n",
      "  File \"/opt/anaconda3/lib/python3.7/site-packages/numpy/core/defchararray.py\", line 316, in add\n",
      "    return _vec_string(arr1, (dtype, out_size), '__add__', (arr2,))\n",
      "ValueError: shape mismatch: objects cannot be broadcast to a single shape\n",
      "Traceback (most recent call last):\n",
      "  File \"/Users/colbrydi/REPOS/Binary-Image-Segmentation/GAHelpers/GeneticHelp.py\", line 258, in runAlgo\n",
      "    np.array(img), groundImg.getImage(), len(np.array(img).shape))\n",
      "  File \"/Users/colbrydi/REPOS/Binary-Image-Segmentation/GAHelpers/GeneticHelp.py\", line 202, in __FitnessFunction\n",
      "    img2, img1, True)\n",
      "  File \"/Users/colbrydi/REPOS/Binary-Image-Segmentation/GAHelpers/GeneticHelp.py\", line 111, in set_fitness_func\n",
      "    matched = np.core.defchararray.add(matched, b_test_int.astype(str))\n",
      "  File \"<__array_function__ internals>\", line 6, in add\n",
      "  File \"/opt/anaconda3/lib/python3.7/site-packages/numpy/core/defchararray.py\", line 316, in add\n",
      "    return _vec_string(arr1, (dtype, out_size), '__add__', (arr2,))\n",
      "ValueError: shape mismatch: objects cannot be broadcast to a single shape\n"
     ]
    }
   ],
   "source": [
    "ga.runsearch()"
   ]
  },
  {
   "cell_type": "code",
   "execution_count": null,
   "metadata": {},
   "outputs": [],
   "source": [
    "import skimage"
   ]
  },
  {
   "cell_type": "code",
   "execution_count": null,
   "metadata": {},
   "outputs": [],
   "source": [
    "import PIL\n"
   ]
  },
  {
   "cell_type": "code",
   "execution_count": null,
   "metadata": {},
   "outputs": [],
   "source": []
  }
 ],
 "metadata": {
  "kernelspec": {
   "display_name": "Python 3",
   "language": "python",
   "name": "python3"
  },
  "language_info": {
   "codemirror_mode": {
    "name": "ipython",
    "version": 3
   },
   "file_extension": ".py",
   "mimetype": "text/x-python",
   "name": "python",
   "nbconvert_exporter": "python",
   "pygments_lexer": "ipython3",
   "version": "3.7.4"
  },
  "toc": {
   "base_numbering": 1,
   "nav_menu": {},
   "number_sections": false,
   "sideBar": false,
   "skip_h1_title": false,
   "title_cell": "Table of Contents",
   "title_sidebar": "Contents",
   "toc_cell": false,
   "toc_position": {},
   "toc_section_display": false,
   "toc_window_display": false
  }
 },
 "nbformat": 4,
 "nbformat_minor": 2
}
