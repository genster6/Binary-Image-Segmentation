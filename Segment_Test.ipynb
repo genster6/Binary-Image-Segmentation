{
 "cells": [
  {
   "cell_type": "markdown",
   "metadata": {},
   "source": [
    "I am trying to refactor the the GAHelpers and make a single set of files that make it easy to add/remove algorithms. Where we are changing things in only one place. When complete this should replace some/all of the following:\n",
    "\n",
    "- AlgorithmParams.py\n",
    "- AlgorithmSpace.py \n",
    "- RunClass.py\n",
    "\n",
    "Maybe a few others."
   ]
  },
  {
   "cell_type": "code",
   "execution_count": null,
   "metadata": {},
   "outputs": [],
   "source": [
    "def showtwo(img, img2):\n",
    "    fig = plt.figure(figsize=(20,20))\n",
    "    ax = fig.add_subplot(1,2,1)\n",
    "    ax.imshow(img)\n",
    "    ax = fig.add_subplot(1,2,2)\n",
    "    ax.imshow(img2)"
   ]
  },
  {
   "cell_type": "code",
   "execution_count": null,
   "metadata": {},
   "outputs": [],
   "source": [
    "def showthree(im, img, img2):\n",
    "    fig = plt.figure(figsize=(20,20))\n",
    "    ax = fig.add_subplot(1,3,1)\n",
    "    ax.imshow(im)\n",
    "    ax = fig.add_subplot(1,3,2)\n",
    "    ax.imshow(img)\n",
    "    ax = fig.add_subplot(1,3,3)\n",
    "    ax.imshow(img2)"
   ]
  },
  {
   "cell_type": "code",
   "execution_count": null,
   "metadata": {},
   "outputs": [],
   "source": [
    "from see import GeneticSearch"
   ]
  },
  {
   "cell_type": "code",
   "execution_count": null,
   "metadata": {},
   "outputs": [],
   "source": [
    "p2 = ['FB', 66, 0.667, 889, 0.05, 580, 74, 10, 0.34, 365, 191, 134, 1, 0.1, 0.72, [1, 2], 4.3, 'checkerboard', 'circle', 4, 649, -49, 148, 23, 2]\n",
    "params = ['FB', 515,  0.566, 984, 0.09, 92, 436, 10, 0.59, 4, 841, 134, 8, 0.01, 0.85, [2, 1], 0.0, 'checkerboard', 'circle', 1, 895, -49, 105, 121, 2]\n",
    "pop = []\n",
    "for i in range(10):\n",
    "    pop.append(p2)\n",
    "    pop.append(params)"
   ]
  },
  {
   "cell_type": "code",
   "execution_count": null,
   "metadata": {},
   "outputs": [],
   "source": [
    "tool = GeneticSearch.makeToolbox(pop)"
   ]
  },
  {
   "cell_type": "code",
   "execution_count": null,
   "metadata": {},
   "outputs": [],
   "source": [
    "%matplotlib inline\n",
    "import matplotlib.pylab as plt\n",
    "import imageio\n",
    "img = imageio.imread('Image_data/Coco_2017_unlabeled//rgbd_plant/rgb_00_000_00.png')\n",
    "gmask = imageio.imread('Image_data/Coco_2017_unlabeled/rgbd_new_label/label_00_000_000.png')\n",
    "showtwo(img, gmask)"
   ]
  },
  {
   "cell_type": "code",
   "execution_count": null,
   "metadata": {},
   "outputs": [],
   "source": [
    "fitness = list(map(Segmentors.runAlgo, img, gmask, pop))"
   ]
  },
  {
   "cell_type": "code",
   "execution_count": null,
   "metadata": {},
   "outputs": [],
   "source": [
    "tpop =  tool.population()"
   ]
  },
  {
   "cell_type": "code",
   "execution_count": null,
   "metadata": {},
   "outputs": [],
   "source": [
    "for ind, fit in zip(pop, fitness):\n",
    "    ind.fitness.val = fit"
   ]
  },
  {
   "cell_type": "code",
   "execution_count": null,
   "metadata": {},
   "outputs": [],
   "source": [
    "offspring = tootlbox.select( self.pop = toolbox.population(), len(pop))"
   ]
  },
  {
   "cell_type": "code",
   "execution_count": null,
   "metadata": {},
   "outputs": [],
   "source": [
    "from see import Segmentors"
   ]
  },
  {
   "cell_type": "code",
   "execution_count": null,
   "metadata": {},
   "outputs": [],
   "source": [
    "Segmentors.algorithmspace"
   ]
  },
  {
   "cell_type": "code",
   "execution_count": null,
   "metadata": {},
   "outputs": [],
   "source": [
    "tot = len(Segmentors.algorithmspace)\n",
    "fig = plt.figure(figsize=(20,20))\n",
    "ax = fig.add_subplot(5,5,1)\n",
    "ax.imshow(img)\n",
    "for index, segkey in enumerate(Segmentors.algorithmspace):\n",
    "    ax = fig.add_subplot(5,5,index+2)\n",
    "    seg = Segmentors.algorithmspace[segkey]()\n",
    "    mask = seg.evaluate(img.copy())\n",
    "    ax.imshow(mask)\n",
    "    plt.title(segkey)"
   ]
  },
  {
   "cell_type": "markdown",
   "metadata": {},
   "source": [
    "Test the parameter parser"
   ]
  },
  {
   "cell_type": "code",
   "execution_count": null,
   "metadata": {},
   "outputs": [],
   "source": [
    "seg = Segmentors.MorphGeodesicActiveContour()\n",
    "seg.params['alpha']  =23\n",
    "seg.params['sigma'] = 0.3\n",
    "seg.params['iterations'] = 10\n",
    "seg.params['init_level_set_morph'] = 'checkerboard'\n",
    "seg.params['smoothing'] = 2\n",
    "seg.params['balloon'] = -10\n",
    "mask = seg.evaluate(img)\n",
    "showthree(img, mask, gmask)"
   ]
  },
  {
   "cell_type": "code",
   "execution_count": null,
   "metadata": {},
   "outputs": [],
   "source": [
    "seg = Segmentors.ColorThreshold()\n",
    "seg.params['channel'] = 1\n",
    "seg.params['mu'] = 0.4\n",
    "seg.params['sigma'] = 0.6\n",
    "mask = seg.evaluate(img)\n",
    "showthree(img, mask, gmask)"
   ]
  },
  {
   "cell_type": "code",
   "execution_count": null,
   "metadata": {},
   "outputs": [],
   "source": [
    "seg = Segmentors.Watershed()\n",
    "seg.params['compactness'] = 10\n",
    "mask = seg.evaluate(img)\n",
    "showthree(img, mask, gmask)"
   ]
  },
  {
   "cell_type": "code",
   "execution_count": null,
   "metadata": {},
   "outputs": [],
   "source": [
    "seg = Segmentors.Slic()\n",
    "seg.params['n_segments'] = 15\n",
    "seg.params['compactness'] = 1\n",
    "seg.params['iterations']= 20\n",
    "seg.params['sigma'] = 5\n",
    "print(f\"({seg.params['n_segments']}, {seg.params['compactness']}, {seg.params['iterations']}, {seg.params['sigma']})\")\n",
    "mask = seg.evaluate(img)\n",
    "showthree(img, mask, gmask)"
   ]
  },
  {
   "cell_type": "code",
   "execution_count": null,
   "metadata": {},
   "outputs": [],
   "source": [
    "seg = Segmentors.QuickShift()\n",
    "#kernel_size=3, max_dist=6, ratio=0.5)\n",
    "seg.params['kernel_size'] = 5\n",
    "seg.params['max_dist'] = 60\n",
    "seg.params['sigma'] = 0.5\n",
    "seg.params['seed'] = 1\n",
    "mask = seg.evaluate(img)\n",
    "showthree(img, mask, gmask)"
   ]
  },
  {
   "cell_type": "code",
   "execution_count": null,
   "metadata": {},
   "outputs": [],
   "source": [
    "seg = Segmentors.Felzenszwalb()\n",
    "print(f\"{seg.params['algorithm']} = ({seg.params['scale']}, {seg.params['sigma']}, {seg.params['min_size']})\")\n",
    "mask = seg.evaluate(img)\n",
    "showthree(img, mask, gmask)"
   ]
  },
  {
   "cell_type": "code",
   "execution_count": null,
   "metadata": {},
   "outputs": [],
   "source": [
    "print(seg.params)"
   ]
  },
  {
   "cell_type": "code",
   "execution_count": null,
   "metadata": {},
   "outputs": [],
   "source": [
    "params = ['FB', 515,  0.566, 984, 0.09, 92, 436, 10, 0.59, 4, 841, 134, 8, 0.01, 0.85, [2, 1], 0.0, 'checkerboard', 'circle', 1, 895, -49, 105, 121, 2]"
   ]
  },
  {
   "cell_type": "code",
   "execution_count": null,
   "metadata": {},
   "outputs": [],
   "source": [
    "print(seg.params)"
   ]
  },
  {
   "cell_type": "code",
   "execution_count": null,
   "metadata": {},
   "outputs": [],
   "source": [
    "seg = Segmentors.algoFromParams(params)\n",
    "print(f\"{seg.params['algorithm']} = ({seg.params['scale']}, {seg.params['sigma']}, {seg.params['min_size']})\")\n",
    "mask = seg.evaluate(img)\n",
    "plt.imshow(mask)"
   ]
  },
  {
   "cell_type": "code",
   "execution_count": null,
   "metadata": {},
   "outputs": [],
   "source": [
    "p = Segmentors.parameters()"
   ]
  },
  {
   "cell_type": "code",
   "execution_count": null,
   "metadata": {},
   "outputs": [],
   "source": [
    "p.printparam('scale')"
   ]
  },
  {
   "cell_type": "code",
   "execution_count": null,
   "metadata": {},
   "outputs": [],
   "source": [
    "[fitness, mask] = Segmentors.runAlgo(img, gmask, params)\n",
    "showtwo(mask, gmask)\n",
    "plt.title(fitness)"
   ]
  },
  {
   "cell_type": "code",
   "execution_count": null,
   "metadata": {},
   "outputs": [],
   "source": [
    "p2 = ['FB', 66, 0.667, 889, 0.05, 580, 74, 10, 0.34, 365, 191, 134, 1, 0.1, 0.72, [1, 2], 4.3, 'checkerboard', 'circle', 4, 649, -49, 148, 23, 2]\n",
    "[fitness, mask] = Segmentors.runAlgo(img, gmask, p2)\n",
    "showtwo(mask, gmask)\n",
    "plt.title(fitness)"
   ]
  },
  {
   "cell_type": "code",
   "execution_count": null,
   "metadata": {},
   "outputs": [],
   "source": [
    "p2 = ['FB', 690, 0.457, 656, 0.03, 569, 557, 10, 0.5, 453, 797, 134, 3, 100, 0.82, [1, 2], 7.5, 'disk', 'circle', 1, 868, -49\n",
    ", 167, 91, 2]\n",
    "[fitness, mask] = Segmentors.runAlgo(img, gmask, p2)\n",
    "showtwo(mask, gmask)\n",
    "plt.title(fitness)"
   ]
  },
  {
   "cell_type": "code",
   "execution_count": null,
   "metadata": {},
   "outputs": [],
   "source": [
    "print(seg)"
   ]
  },
  {
   "cell_type": "code",
   "execution_count": null,
   "metadata": {},
   "outputs": [],
   "source": [
    "Segmentors.FitnessFunction(mask,mask)"
   ]
  },
  {
   "cell_type": "code",
   "execution_count": null,
   "metadata": {},
   "outputs": [],
   "source": []
  },
  {
   "cell_type": "code",
   "execution_count": null,
   "metadata": {},
   "outputs": [],
   "source": []
  },
  {
   "cell_type": "code",
   "execution_count": null,
   "metadata": {},
   "outputs": [],
   "source": []
  }
 ],
 "metadata": {
  "kernelspec": {
   "display_name": "Python 3",
   "language": "python",
   "name": "python3"
  },
  "language_info": {
   "codemirror_mode": {
    "name": "ipython",
    "version": 3
   },
   "file_extension": ".py",
   "mimetype": "text/x-python",
   "name": "python",
   "nbconvert_exporter": "python",
   "pygments_lexer": "ipython3",
   "version": "3.7.5"
  },
  "toc": {
   "base_numbering": 1,
   "nav_menu": {},
   "number_sections": false,
   "sideBar": false,
   "skip_h1_title": false,
   "title_cell": "Table of Contents",
   "title_sidebar": "Contents",
   "toc_cell": false,
   "toc_position": {},
   "toc_section_display": false,
   "toc_window_display": false
  }
 },
 "nbformat": 4,
 "nbformat_minor": 4
}
