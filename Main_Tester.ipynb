{
 "cells": [
  {
   "cell_type": "code",
   "execution_count": 1,
   "metadata": {},
   "outputs": [],
   "source": [
    "import main"
   ]
  },
  {
   "cell_type": "code",
   "execution_count": null,
   "metadata": {},
   "outputs": [
    {
     "name": "stdout",
     "output_type": "stream",
     "text": [
      "Seed was: 134\n",
      "Image_data/Coco_2017_unlabeled//rgbd_plant/rgb_00_000_00.png\n",
      "functools.partial(<function GeneticHelp.runAlgo at 0x1c2c851e60>)\n",
      " Min:  9.223372036854776e+18\n",
      " Max:  9.223372036854776e+18\n",
      " Avg:  9.223372036854776e+18\n",
      " Std:  0.0\n",
      " Size:  10\n",
      " Time:  62.41358780860901\n",
      "Generation:  1\n",
      " Min:  9.223372036854776e+18\n",
      " Max:  9.223372036854776e+18\n",
      " Avg:  9.223372036854776e+18\n",
      " Std:  0.0\n",
      " Size:  10\n",
      " Time:  119.88342690467834\n",
      "Best Fitness:  (9.223372036854776e+18,)\n",
      "['AC', 535, 0.203, 743, 0.09, 932, 740, 10, 0.95, 653, 855, 134, 2, 0.0001, 0.83, [1, 2], 1.4, 'disk', 'checkerboard', 4, 254, -49, 116, 7, 2]\n",
      "Generation:  2\n",
      " Min:  9.223372036854776e+18\n",
      " Max:  9.223372036854776e+18\n",
      " Avg:  9.223372036854776e+18\n",
      " Std:  0.0\n",
      " Size:  10\n",
      " Time:  152.3346049785614\n",
      "Best Fitness:  (9.223372036854776e+18,)\n",
      "['AC', 535, 0.203, 743, 0.09, 932, 740, 10, 0.95, 653, 855, 134, 2, 0.0001, 0.83, [1, 2], 1.4, 'disk', 'checkerboard', 4, 254, -49, 116, 7, 2]\n",
      "Generation:  3\n",
      " Min:  9.223372036854776e+18\n",
      " Max:  9.223372036854776e+18\n",
      " Avg:  9.223372036854776e+18\n",
      " Std:  0.0\n",
      " Size:  10\n",
      " Time:  169.55876803398132\n",
      "Best Fitness:  (9.223372036854776e+18,)\n",
      "['AC', 535, 0.203, 743, 0.09, 932, 740, 10, 0.95, 653, 855, 134, 2, 0.0001, 0.83, [1, 2], 1.4, 'disk', 'checkerboard', 4, 254, -49, 116, 7, 2]\n",
      "Generation:  4\n",
      " Min:  9.223372036854776e+18\n",
      " Max:  9.223372036854776e+18\n",
      " Avg:  9.223372036854776e+18\n",
      " Std:  0.0\n",
      " Size:  10\n",
      " Time:  184.6047008037567\n",
      "Best Fitness:  (9.223372036854776e+18,)\n",
      "['AC', 535, 0.203, 743, 0.09, 932, 740, 10, 0.95, 653, 855, 134, 2, 0.0001, 0.83, [1, 2], 1.4, 'disk', 'checkerboard', 4, 254, -49, 116, 7, 2]\n",
      "Generation:  5\n"
     ]
    }
   ],
   "source": [
    "%matplotlib inline\n",
    "ga = main.SegmentImage()\n",
    "ga.runsearch()"
   ]
  },
  {
   "cell_type": "code",
   "execution_count": null,
   "metadata": {},
   "outputs": [],
   "source": []
  }
 ],
 "metadata": {
  "kernelspec": {
   "display_name": "Python 3",
   "language": "python",
   "name": "python3"
  },
  "language_info": {
   "codemirror_mode": {
    "name": "ipython",
    "version": 3
   },
   "file_extension": ".py",
   "mimetype": "text/x-python",
   "name": "python",
   "nbconvert_exporter": "python",
   "pygments_lexer": "ipython3",
   "version": "3.7.5"
  }
 },
 "nbformat": 4,
 "nbformat_minor": 4
}
