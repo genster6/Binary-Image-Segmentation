{
 "cells": [
  {
   "cell_type": "markdown",
   "metadata": {},
   "source": [
    "# Data Download\n",
    "This notebook reaches out and downloads some common datasets for use with testing the SEE library.  Many of these datasets are cataloged in the following CVonline website:\n",
    "\n",
    "http://homepages.inf.ed.ac.uk/rbf/CVonline/Imagedbase.htm#segmentation\n",
    "\n"
   ]
  },
  {
   "cell_type": "markdown",
   "metadata": {},
   "source": [
    "## A Dataset for Sky Segmentation \n",
    "This Sky dataset was used to evaluate the method IFT-SLIC and other superpixel algorithms, using the superpixel-based sky segmentation method proposed by Juraj Kostolansky. It contains a collection of 60 images based on the Caltech Airplanes Side dataset by R. Fergus with ground truth for sky segmentation. (Eduardo B. Alexandre, Paulo A. V. Miranda, R. Fergus) [Before 28/12/19]\n",
    "\n"
   ]
  },
  {
   "cell_type": "code",
   "execution_count": 1,
   "metadata": {
    "scrolled": true
   },
   "outputs": [
    {
     "name": "stdout",
     "output_type": "stream",
     "text": [
      "Unzipping sky.zip\n",
      "Converting files in .\n",
      "/Users/colbrydi/REPOS/Binary-Image-Segmentation/Image_data/../Image_data/sky/groundtruth/0001_gt.pgm\n",
      "Filetype is P5\n",
      "Trying to read as P5 PGM file\n",
      "/Users/colbrydi/REPOS/Binary-Image-Segmentation/Image_data/../Image_data/sky/groundtruth/0002_gt.pgm\n",
      "Filetype is P5\n",
      "Trying to read as P5 PGM file\n",
      "/Users/colbrydi/REPOS/Binary-Image-Segmentation/Image_data/../Image_data/sky/groundtruth/0003_gt.pgm\n",
      "Filetype is P5\n",
      "Trying to read as P5 PGM file\n",
      "/Users/colbrydi/REPOS/Binary-Image-Segmentation/Image_data/../Image_data/sky/groundtruth/0004_gt.pgm\n",
      "Filetype is P5\n",
      "Trying to read as P5 PGM file\n",
      "/Users/colbrydi/REPOS/Binary-Image-Segmentation/Image_data/../Image_data/sky/groundtruth/0005_gt.pgm\n",
      "Filetype is P2\n",
      "Trying to read as P2 PGM file\n"
     ]
    },
    {
     "name": "stderr",
     "output_type": "stream",
     "text": [
      "Lossy conversion from int64 to uint8. Range [0, 1]. Convert image to uint8 prior to saving to suppress this warning.\n",
      "Lossy conversion from int64 to uint8. Range [0, 1]. Convert image to uint8 prior to saving to suppress this warning.\n",
      "Lossy conversion from int64 to uint8. Range [0, 1]. Convert image to uint8 prior to saving to suppress this warning.\n"
     ]
    },
    {
     "name": "stdout",
     "output_type": "stream",
     "text": [
      "/Users/colbrydi/REPOS/Binary-Image-Segmentation/Image_data/../Image_data/sky/groundtruth/0008_gt.pgm\n",
      "Filetype is P2\n",
      "Trying to read as P2 PGM file\n",
      "/Users/colbrydi/REPOS/Binary-Image-Segmentation/Image_data/../Image_data/sky/groundtruth/0009_gt.pgm\n",
      "Filetype is P2\n",
      "Trying to read as P2 PGM file\n",
      "/Users/colbrydi/REPOS/Binary-Image-Segmentation/Image_data/../Image_data/sky/groundtruth/0012_gt.pgm\n",
      "Filetype is P2\n",
      "Trying to read as P2 PGM file\n"
     ]
    },
    {
     "name": "stderr",
     "output_type": "stream",
     "text": [
      "Lossy conversion from int64 to uint8. Range [0, 1]. Convert image to uint8 prior to saving to suppress this warning.\n",
      "Lossy conversion from int64 to uint8. Range [0, 1]. Convert image to uint8 prior to saving to suppress this warning.\n"
     ]
    },
    {
     "name": "stdout",
     "output_type": "stream",
     "text": [
      "/Users/colbrydi/REPOS/Binary-Image-Segmentation/Image_data/../Image_data/sky/groundtruth/0013_gt.pgm\n",
      "Filetype is P2\n",
      "Trying to read as P2 PGM file\n",
      "/Users/colbrydi/REPOS/Binary-Image-Segmentation/Image_data/../Image_data/sky/groundtruth/0014_gt.pgm\n",
      "Filetype is P2\n",
      "Trying to read as P2 PGM file\n"
     ]
    },
    {
     "name": "stderr",
     "output_type": "stream",
     "text": [
      "Lossy conversion from int64 to uint8. Range [0, 1]. Convert image to uint8 prior to saving to suppress this warning.\n",
      "Lossy conversion from int64 to uint8. Range [0, 1]. Convert image to uint8 prior to saving to suppress this warning.\n",
      "Lossy conversion from int64 to uint8. Range [0, 1]. Convert image to uint8 prior to saving to suppress this warning.\n"
     ]
    },
    {
     "name": "stdout",
     "output_type": "stream",
     "text": [
      "/Users/colbrydi/REPOS/Binary-Image-Segmentation/Image_data/../Image_data/sky/groundtruth/0017_gt.pgm\n",
      "Filetype is P2\n",
      "Trying to read as P2 PGM file\n",
      "/Users/colbrydi/REPOS/Binary-Image-Segmentation/Image_data/../Image_data/sky/groundtruth/0020_gt.pgm\n",
      "Filetype is P2\n",
      "Trying to read as P2 PGM file\n",
      "/Users/colbrydi/REPOS/Binary-Image-Segmentation/Image_data/../Image_data/sky/groundtruth/0024_gt.pgm\n",
      "Filetype is P2\n",
      "Trying to read as P2 PGM file\n"
     ]
    },
    {
     "name": "stderr",
     "output_type": "stream",
     "text": [
      "Lossy conversion from int64 to uint8. Range [0, 1]. Convert image to uint8 prior to saving to suppress this warning.\n",
      "Lossy conversion from int64 to uint8. Range [0, 1]. Convert image to uint8 prior to saving to suppress this warning.\n",
      "Lossy conversion from int64 to uint8. Range [0, 1]. Convert image to uint8 prior to saving to suppress this warning.\n"
     ]
    },
    {
     "name": "stdout",
     "output_type": "stream",
     "text": [
      "/Users/colbrydi/REPOS/Binary-Image-Segmentation/Image_data/../Image_data/sky/groundtruth/0026_gt.pgm\n",
      "Filetype is P2\n",
      "Trying to read as P2 PGM file\n",
      "/Users/colbrydi/REPOS/Binary-Image-Segmentation/Image_data/../Image_data/sky/groundtruth/0027_gt.pgm\n",
      "Filetype is P2\n",
      "Trying to read as P2 PGM file\n",
      "/Users/colbrydi/REPOS/Binary-Image-Segmentation/Image_data/../Image_data/sky/groundtruth/0030_gt.pgm\n",
      "Filetype is P2\n",
      "Trying to read as P2 PGM file\n"
     ]
    },
    {
     "name": "stderr",
     "output_type": "stream",
     "text": [
      "Lossy conversion from int64 to uint8. Range [0, 1]. Convert image to uint8 prior to saving to suppress this warning.\n",
      "Lossy conversion from int64 to uint8. Range [0, 1]. Convert image to uint8 prior to saving to suppress this warning.\n",
      "Lossy conversion from int64 to uint8. Range [0, 1]. Convert image to uint8 prior to saving to suppress this warning.\n"
     ]
    },
    {
     "name": "stdout",
     "output_type": "stream",
     "text": [
      "/Users/colbrydi/REPOS/Binary-Image-Segmentation/Image_data/../Image_data/sky/groundtruth/0031_gt.pgm\n",
      "Filetype is P2\n",
      "Trying to read as P2 PGM file\n",
      "/Users/colbrydi/REPOS/Binary-Image-Segmentation/Image_data/../Image_data/sky/groundtruth/0036_gt.pgm\n",
      "Filetype is P2\n",
      "Trying to read as P2 PGM file\n",
      "/Users/colbrydi/REPOS/Binary-Image-Segmentation/Image_data/../Image_data/sky/groundtruth/0039_gt.pgm\n",
      "Filetype is P2\n",
      "Trying to read as P2 PGM file\n"
     ]
    },
    {
     "name": "stderr",
     "output_type": "stream",
     "text": [
      "Lossy conversion from int64 to uint8. Range [0, 1]. Convert image to uint8 prior to saving to suppress this warning.\n",
      "Lossy conversion from int64 to uint8. Range [0, 1]. Convert image to uint8 prior to saving to suppress this warning.\n",
      "Lossy conversion from int64 to uint8. Range [0, 1]. Convert image to uint8 prior to saving to suppress this warning.\n"
     ]
    },
    {
     "name": "stdout",
     "output_type": "stream",
     "text": [
      "/Users/colbrydi/REPOS/Binary-Image-Segmentation/Image_data/../Image_data/sky/groundtruth/0041_gt.pgm\n",
      "Filetype is P2\n",
      "Trying to read as P2 PGM file\n",
      "/Users/colbrydi/REPOS/Binary-Image-Segmentation/Image_data/../Image_data/sky/groundtruth/0043_gt.pgm\n",
      "Filetype is P2\n",
      "Trying to read as P2 PGM file\n",
      "/Users/colbrydi/REPOS/Binary-Image-Segmentation/Image_data/../Image_data/sky/groundtruth/0045_gt.pgm\n",
      "Filetype is P2\n",
      "Trying to read as P2 PGM file\n"
     ]
    },
    {
     "name": "stderr",
     "output_type": "stream",
     "text": [
      "Lossy conversion from int64 to uint8. Range [0, 1]. Convert image to uint8 prior to saving to suppress this warning.\n",
      "Lossy conversion from int64 to uint8. Range [0, 1]. Convert image to uint8 prior to saving to suppress this warning.\n",
      "Lossy conversion from int64 to uint8. Range [0, 1]. Convert image to uint8 prior to saving to suppress this warning.\n"
     ]
    },
    {
     "name": "stdout",
     "output_type": "stream",
     "text": [
      "/Users/colbrydi/REPOS/Binary-Image-Segmentation/Image_data/../Image_data/sky/groundtruth/0047_gt.pgm\n",
      "Filetype is P2\n",
      "Trying to read as P2 PGM file\n",
      "/Users/colbrydi/REPOS/Binary-Image-Segmentation/Image_data/../Image_data/sky/groundtruth/0051_gt.pgm\n",
      "Filetype is P2\n",
      "Trying to read as P2 PGM file\n",
      "/Users/colbrydi/REPOS/Binary-Image-Segmentation/Image_data/../Image_data/sky/groundtruth/0053_gt.pgm\n",
      "Filetype is P2\n",
      "Trying to read as P2 PGM file\n"
     ]
    },
    {
     "name": "stderr",
     "output_type": "stream",
     "text": [
      "Lossy conversion from int64 to uint8. Range [0, 1]. Convert image to uint8 prior to saving to suppress this warning.\n",
      "Lossy conversion from int64 to uint8. Range [0, 1]. Convert image to uint8 prior to saving to suppress this warning.\n",
      "Lossy conversion from int64 to uint8. Range [0, 1]. Convert image to uint8 prior to saving to suppress this warning.\n"
     ]
    },
    {
     "name": "stdout",
     "output_type": "stream",
     "text": [
      "/Users/colbrydi/REPOS/Binary-Image-Segmentation/Image_data/../Image_data/sky/groundtruth/0056_gt.pgm\n",
      "Filetype is P2\n",
      "Trying to read as P2 PGM file\n",
      "/Users/colbrydi/REPOS/Binary-Image-Segmentation/Image_data/../Image_data/sky/groundtruth/0059_gt.pgm\n",
      "Filetype is P2\n",
      "Trying to read as P2 PGM file\n",
      "/Users/colbrydi/REPOS/Binary-Image-Segmentation/Image_data/../Image_data/sky/groundtruth/0062_gt.pgm\n",
      "Filetype is P2\n",
      "Trying to read as P2 PGM file\n"
     ]
    },
    {
     "name": "stderr",
     "output_type": "stream",
     "text": [
      "Lossy conversion from int64 to uint8. Range [0, 1]. Convert image to uint8 prior to saving to suppress this warning.\n",
      "Lossy conversion from int64 to uint8. Range [0, 1]. Convert image to uint8 prior to saving to suppress this warning.\n",
      "Lossy conversion from int64 to uint8. Range [0, 1]. Convert image to uint8 prior to saving to suppress this warning.\n"
     ]
    },
    {
     "name": "stdout",
     "output_type": "stream",
     "text": [
      "/Users/colbrydi/REPOS/Binary-Image-Segmentation/Image_data/../Image_data/sky/groundtruth/0063_gt.pgm\n",
      "Filetype is P2\n",
      "Trying to read as P2 PGM file\n",
      "/Users/colbrydi/REPOS/Binary-Image-Segmentation/Image_data/../Image_data/sky/groundtruth/0064_gt.pgm\n",
      "Filetype is P2\n",
      "Trying to read as P2 PGM file\n"
     ]
    },
    {
     "name": "stderr",
     "output_type": "stream",
     "text": [
      "Lossy conversion from int64 to uint8. Range [0, 1]. Convert image to uint8 prior to saving to suppress this warning.\n",
      "Lossy conversion from int64 to uint8. Range [0, 1]. Convert image to uint8 prior to saving to suppress this warning.\n"
     ]
    },
    {
     "name": "stdout",
     "output_type": "stream",
     "text": [
      "/Users/colbrydi/REPOS/Binary-Image-Segmentation/Image_data/../Image_data/sky/groundtruth/0066_gt.pgm\n",
      "Filetype is P2\n",
      "Trying to read as P2 PGM file\n",
      "/Users/colbrydi/REPOS/Binary-Image-Segmentation/Image_data/../Image_data/sky/groundtruth/0070_gt.pgm\n",
      "Filetype is P2\n",
      "Trying to read as P2 PGM file\n",
      "/Users/colbrydi/REPOS/Binary-Image-Segmentation/Image_data/../Image_data/sky/groundtruth/0072_gt.pgm\n",
      "Filetype is P2\n",
      "Trying to read as P2 PGM file\n"
     ]
    },
    {
     "name": "stderr",
     "output_type": "stream",
     "text": [
      "Lossy conversion from int64 to uint8. Range [0, 1]. Convert image to uint8 prior to saving to suppress this warning.\n",
      "Lossy conversion from int64 to uint8. Range [0, 1]. Convert image to uint8 prior to saving to suppress this warning.\n"
     ]
    },
    {
     "name": "stdout",
     "output_type": "stream",
     "text": [
      "/Users/colbrydi/REPOS/Binary-Image-Segmentation/Image_data/../Image_data/sky/groundtruth/0074_gt.pgm\n",
      "Filetype is P2\n",
      "Trying to read as P2 PGM file\n",
      "/Users/colbrydi/REPOS/Binary-Image-Segmentation/Image_data/../Image_data/sky/groundtruth/0076_gt.pgm\n",
      "Filetype is P2\n",
      "Trying to read as P2 PGM file\n"
     ]
    },
    {
     "name": "stderr",
     "output_type": "stream",
     "text": [
      "Lossy conversion from int64 to uint8. Range [0, 1]. Convert image to uint8 prior to saving to suppress this warning.\n",
      "Lossy conversion from int64 to uint8. Range [0, 1]. Convert image to uint8 prior to saving to suppress this warning.\n"
     ]
    },
    {
     "name": "stdout",
     "output_type": "stream",
     "text": [
      "/Users/colbrydi/REPOS/Binary-Image-Segmentation/Image_data/../Image_data/sky/groundtruth/0077_gt.pgm\n",
      "Filetype is P2\n",
      "Trying to read as P2 PGM file\n",
      "/Users/colbrydi/REPOS/Binary-Image-Segmentation/Image_data/../Image_data/sky/groundtruth/0085_gt.pgm\n",
      "Filetype is P2\n",
      "Trying to read as P2 PGM file\n"
     ]
    },
    {
     "name": "stderr",
     "output_type": "stream",
     "text": [
      "Lossy conversion from int64 to uint8. Range [0, 1]. Convert image to uint8 prior to saving to suppress this warning.\n",
      "Lossy conversion from int64 to uint8. Range [0, 1]. Convert image to uint8 prior to saving to suppress this warning.\n",
      "Lossy conversion from int64 to uint8. Range [0, 1]. Convert image to uint8 prior to saving to suppress this warning.\n"
     ]
    },
    {
     "name": "stdout",
     "output_type": "stream",
     "text": [
      "/Users/colbrydi/REPOS/Binary-Image-Segmentation/Image_data/../Image_data/sky/groundtruth/0088_gt.pgm\n",
      "Filetype is P2\n",
      "Trying to read as P2 PGM file\n",
      "/Users/colbrydi/REPOS/Binary-Image-Segmentation/Image_data/../Image_data/sky/groundtruth/0090_gt.pgm\n",
      "Filetype is P2\n",
      "Trying to read as P2 PGM file\n",
      "/Users/colbrydi/REPOS/Binary-Image-Segmentation/Image_data/../Image_data/sky/groundtruth/0092_gt.pgm\n",
      "Filetype is P2\n",
      "Trying to read as P2 PGM file\n"
     ]
    },
    {
     "name": "stderr",
     "output_type": "stream",
     "text": [
      "Lossy conversion from int64 to uint8. Range [0, 1]. Convert image to uint8 prior to saving to suppress this warning.\n",
      "Lossy conversion from int64 to uint8. Range [0, 1]. Convert image to uint8 prior to saving to suppress this warning.\n",
      "Lossy conversion from int64 to uint8. Range [0, 1]. Convert image to uint8 prior to saving to suppress this warning.\n"
     ]
    },
    {
     "name": "stdout",
     "output_type": "stream",
     "text": [
      "/Users/colbrydi/REPOS/Binary-Image-Segmentation/Image_data/../Image_data/sky/groundtruth/0093_gt.pgm\n",
      "Filetype is P2\n",
      "Trying to read as P2 PGM file\n",
      "/Users/colbrydi/REPOS/Binary-Image-Segmentation/Image_data/../Image_data/sky/groundtruth/0095_gt.pgm\n",
      "Filetype is P2\n",
      "Trying to read as P2 PGM file\n",
      "/Users/colbrydi/REPOS/Binary-Image-Segmentation/Image_data/../Image_data/sky/groundtruth/0096_gt.pgm\n"
     ]
    },
    {
     "name": "stderr",
     "output_type": "stream",
     "text": [
      "Lossy conversion from int64 to uint8. Range [0, 1]. Convert image to uint8 prior to saving to suppress this warning.\n",
      "Lossy conversion from int64 to uint8. Range [0, 1]. Convert image to uint8 prior to saving to suppress this warning.\n"
     ]
    },
    {
     "name": "stdout",
     "output_type": "stream",
     "text": [
      "Filetype is P2\n",
      "Trying to read as P2 PGM file\n",
      "/Users/colbrydi/REPOS/Binary-Image-Segmentation/Image_data/../Image_data/sky/groundtruth/0098_gt.pgm\n",
      "Filetype is P2\n",
      "Trying to read as P2 PGM file\n",
      "/Users/colbrydi/REPOS/Binary-Image-Segmentation/Image_data/../Image_data/sky/groundtruth/0101_gt.pgm\n",
      "Filetype is P2\n",
      "Trying to read as P2 PGM file\n"
     ]
    },
    {
     "name": "stderr",
     "output_type": "stream",
     "text": [
      "Lossy conversion from int64 to uint8. Range [0, 1]. Convert image to uint8 prior to saving to suppress this warning.\n",
      "Lossy conversion from int64 to uint8. Range [0, 1]. Convert image to uint8 prior to saving to suppress this warning.\n",
      "Lossy conversion from int64 to uint8. Range [0, 1]. Convert image to uint8 prior to saving to suppress this warning.\n"
     ]
    },
    {
     "name": "stdout",
     "output_type": "stream",
     "text": [
      "/Users/colbrydi/REPOS/Binary-Image-Segmentation/Image_data/../Image_data/sky/groundtruth/0103_gt.pgm\n",
      "Filetype is P2\n",
      "Trying to read as P2 PGM file\n",
      "/Users/colbrydi/REPOS/Binary-Image-Segmentation/Image_data/../Image_data/sky/groundtruth/0105_gt.pgm\n",
      "Filetype is P2\n",
      "Trying to read as P2 PGM file\n",
      "/Users/colbrydi/REPOS/Binary-Image-Segmentation/Image_data/../Image_data/sky/groundtruth/0107_gt.pgm\n",
      "Filetype is P2\n",
      "Trying to read as P2 PGM file\n"
     ]
    },
    {
     "name": "stderr",
     "output_type": "stream",
     "text": [
      "Lossy conversion from int64 to uint8. Range [0, 1]. Convert image to uint8 prior to saving to suppress this warning.\n",
      "Lossy conversion from int64 to uint8. Range [0, 1]. Convert image to uint8 prior to saving to suppress this warning.\n",
      "Lossy conversion from int64 to uint8. Range [0, 1]. Convert image to uint8 prior to saving to suppress this warning.\n"
     ]
    },
    {
     "name": "stdout",
     "output_type": "stream",
     "text": [
      "/Users/colbrydi/REPOS/Binary-Image-Segmentation/Image_data/../Image_data/sky/groundtruth/0109_gt.pgm\n",
      "Filetype is P2\n",
      "Trying to read as P2 PGM file\n",
      "/Users/colbrydi/REPOS/Binary-Image-Segmentation/Image_data/../Image_data/sky/groundtruth/0111_gt.pgm\n",
      "Filetype is P2\n",
      "Trying to read as P2 PGM file\n",
      "/Users/colbrydi/REPOS/Binary-Image-Segmentation/Image_data/../Image_data/sky/groundtruth/0113_gt.pgm\n",
      "Filetype is P2\n",
      "Trying to read as P2 PGM file\n"
     ]
    },
    {
     "name": "stderr",
     "output_type": "stream",
     "text": [
      "Lossy conversion from int64 to uint8. Range [0, 1]. Convert image to uint8 prior to saving to suppress this warning.\n",
      "Lossy conversion from int64 to uint8. Range [0, 1]. Convert image to uint8 prior to saving to suppress this warning.\n",
      "Lossy conversion from int64 to uint8. Range [0, 1]. Convert image to uint8 prior to saving to suppress this warning.\n"
     ]
    },
    {
     "name": "stdout",
     "output_type": "stream",
     "text": [
      "/Users/colbrydi/REPOS/Binary-Image-Segmentation/Image_data/../Image_data/sky/groundtruth/0114_gt.pgm\n",
      "Filetype is P2\n",
      "Trying to read as P2 PGM file\n",
      "/Users/colbrydi/REPOS/Binary-Image-Segmentation/Image_data/../Image_data/sky/groundtruth/0117_gt.pgm\n",
      "Filetype is P2\n",
      "Trying to read as P2 PGM file\n",
      "/Users/colbrydi/REPOS/Binary-Image-Segmentation/Image_data/../Image_data/sky/groundtruth/0121_gt.pgm\n",
      "Filetype is P2\n",
      "Trying to read as P2 PGM file\n"
     ]
    },
    {
     "name": "stderr",
     "output_type": "stream",
     "text": [
      "Lossy conversion from int64 to uint8. Range [0, 1]. Convert image to uint8 prior to saving to suppress this warning.\n",
      "Lossy conversion from int64 to uint8. Range [0, 1]. Convert image to uint8 prior to saving to suppress this warning.\n"
     ]
    },
    {
     "name": "stdout",
     "output_type": "stream",
     "text": [
      "/Users/colbrydi/REPOS/Binary-Image-Segmentation/Image_data/../Image_data/sky/groundtruth/0128_gt.pgm\n",
      "Filetype is P2\n",
      "Trying to read as P2 PGM file\n",
      "/Users/colbrydi/REPOS/Binary-Image-Segmentation/Image_data/../Image_data/sky/groundtruth/0130_gt.pgm\n",
      "Filetype is P2\n",
      "Trying to read as P2 PGM file\n"
     ]
    },
    {
     "name": "stderr",
     "output_type": "stream",
     "text": [
      "Lossy conversion from int64 to uint8. Range [0, 1]. Convert image to uint8 prior to saving to suppress this warning.\n",
      "Lossy conversion from int64 to uint8. Range [0, 1]. Convert image to uint8 prior to saving to suppress this warning.\n"
     ]
    },
    {
     "name": "stdout",
     "output_type": "stream",
     "text": [
      "/Users/colbrydi/REPOS/Binary-Image-Segmentation/Image_data/../Image_data/sky/groundtruth/0132_gt.pgm\n",
      "Filetype is P2\n",
      "Trying to read as P2 PGM file\n",
      "/Users/colbrydi/REPOS/Binary-Image-Segmentation/Image_data/../Image_data/sky/groundtruth/0133_gt.pgm\n",
      "Filetype is P2\n",
      "Trying to read as P2 PGM file\n"
     ]
    },
    {
     "name": "stderr",
     "output_type": "stream",
     "text": [
      "Lossy conversion from int64 to uint8. Range [0, 1]. Convert image to uint8 prior to saving to suppress this warning.\n",
      "Lossy conversion from int64 to uint8. Range [0, 1]. Convert image to uint8 prior to saving to suppress this warning.\n"
     ]
    },
    {
     "name": "stdout",
     "output_type": "stream",
     "text": [
      "/Users/colbrydi/REPOS/Binary-Image-Segmentation/Image_data/../Image_data/sky/groundtruth/0141_gt.pgm\n",
      "Filetype is P2\n",
      "Trying to read as P2 PGM file\n",
      "/Users/colbrydi/REPOS/Binary-Image-Segmentation/Image_data/../Image_data/sky/groundtruth/0142_gt.pgm\n",
      "Filetype is P2\n",
      "Trying to read as P2 PGM file\n"
     ]
    },
    {
     "name": "stderr",
     "output_type": "stream",
     "text": [
      "Lossy conversion from int64 to uint8. Range [0, 1]. Convert image to uint8 prior to saving to suppress this warning.\n"
     ]
    },
    {
     "name": "stdout",
     "output_type": "stream",
     "text": [
      "Download and Convert Complete\n"
     ]
    }
   ],
   "source": [
    "from SkyRun import downloadSkyData\n",
    "downloadSkyData(force=False)"
   ]
  },
  {
   "cell_type": "code",
   "execution_count": null,
   "metadata": {},
   "outputs": [],
   "source": []
  }
 ],
 "metadata": {
  "kernelspec": {
   "display_name": "Python 3",
   "language": "python",
   "name": "python3"
  },
  "language_info": {
   "codemirror_mode": {
    "name": "ipython",
    "version": 3
   },
   "file_extension": ".py",
   "mimetype": "text/x-python",
   "name": "python",
   "nbconvert_exporter": "python",
   "pygments_lexer": "ipython3",
   "version": "3.7.5"
  }
 },
 "nbformat": 4,
 "nbformat_minor": 2
}
